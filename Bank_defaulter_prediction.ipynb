{
 "cells": [
  {
   "cell_type": "code",
   "execution_count": 56,
   "metadata": {
    "collapsed": true
   },
   "outputs": [],
   "source": [
    "import pandas as pd\n",
    "import numpy as np\n",
    "from pandas import DataFrame\n",
    "from scipy.io import arff\n",
    "import seaborn as sns\n",
    "import scipy.stats as stats\n",
    "import matplotlib.pyplot as plt\n",
    "from scipy.stats import skew,norm\n",
    "from sklearn.model_selection import train_test_split\n",
    "from sklearn import metrics\n",
    "\n",
    "from sklearn.tree import DecisionTreeClassifier,DecisionTreeRegressor\n",
    "from sklearn.linear_model import LogisticRegression\n",
    "from sklearn.ensemble import RandomForestClassifier\n",
    "from sklearn.metrics import f1_score, confusion_matrix\n",
    "from sklearn.metrics import precision_score, recall_score\n",
    "from sklearn.metrics import roc_auc_score, roc_curve,accuracy_score\n",
    "\n",
    "%matplotlib inline"
   ]
  },
  {
   "cell_type": "code",
   "execution_count": 2,
   "metadata": {
    "collapsed": true
   },
   "outputs": [],
   "source": [
    "data = arff.loadarff('4year.arff')"
   ]
  },
  {
   "cell_type": "code",
   "execution_count": 3,
   "metadata": {
    "collapsed": true
   },
   "outputs": [],
   "source": [
    "data = pd.DataFrame(data[0])"
   ]
  },
  {
   "cell_type": "code",
   "execution_count": 4,
   "metadata": {
    "collapsed": true
   },
   "outputs": [],
   "source": [
    "data.head()\n",
    "data['class'].value_counts()\n",
    "data['class'] = data['class'].astype(int)"
   ]
  },
  {
   "cell_type": "code",
   "execution_count": 5,
   "metadata": {
    "collapsed": true
   },
   "outputs": [],
   "source": [
    "X = data.iloc[:,:-1]\n",
    "y = data.iloc[:,-1]"
   ]
  },
  {
   "cell_type": "code",
   "execution_count": 6,
   "metadata": {
    "collapsed": true
   },
   "outputs": [],
   "source": [
    "X_train, X_test, y_train, y_test = train_test_split(X,y,random_state=9,test_size = .2)"
   ]
  },
  {
   "cell_type": "markdown",
   "metadata": {},
   "source": [
    "# Checking Missing Values"
   ]
  },
  {
   "cell_type": "code",
   "execution_count": 7,
   "metadata": {},
   "outputs": [
    {
     "data": {
      "text/html": [
       "<div>\n",
       "<style>\n",
       "    .dataframe thead tr:only-child th {\n",
       "        text-align: right;\n",
       "    }\n",
       "\n",
       "    .dataframe thead th {\n",
       "        text-align: left;\n",
       "    }\n",
       "\n",
       "    .dataframe tbody tr th {\n",
       "        vertical-align: top;\n",
       "    }\n",
       "</style>\n",
       "<table border=\"1\" class=\"dataframe\">\n",
       "  <thead>\n",
       "    <tr style=\"text-align: right;\">\n",
       "      <th></th>\n",
       "      <th>Total</th>\n",
       "      <th>Percent</th>\n",
       "    </tr>\n",
       "  </thead>\n",
       "  <tbody>\n",
       "    <tr>\n",
       "      <th>Attr37</th>\n",
       "      <td>4442</td>\n",
       "      <td>0.453636</td>\n",
       "    </tr>\n",
       "    <tr>\n",
       "      <th>Attr27</th>\n",
       "      <td>641</td>\n",
       "      <td>0.065462</td>\n",
       "    </tr>\n",
       "    <tr>\n",
       "      <th>Attr60</th>\n",
       "      <td>614</td>\n",
       "      <td>0.062704</td>\n",
       "    </tr>\n",
       "    <tr>\n",
       "      <th>Attr45</th>\n",
       "      <td>613</td>\n",
       "      <td>0.062602</td>\n",
       "    </tr>\n",
       "    <tr>\n",
       "      <th>Attr28</th>\n",
       "      <td>231</td>\n",
       "      <td>0.023591</td>\n",
       "    </tr>\n",
       "    <tr>\n",
       "      <th>Attr64</th>\n",
       "      <td>231</td>\n",
       "      <td>0.023591</td>\n",
       "    </tr>\n",
       "    <tr>\n",
       "      <th>Attr54</th>\n",
       "      <td>231</td>\n",
       "      <td>0.023591</td>\n",
       "    </tr>\n",
       "    <tr>\n",
       "      <th>Attr53</th>\n",
       "      <td>231</td>\n",
       "      <td>0.023591</td>\n",
       "    </tr>\n",
       "    <tr>\n",
       "      <th>Attr24</th>\n",
       "      <td>211</td>\n",
       "      <td>0.021548</td>\n",
       "    </tr>\n",
       "    <tr>\n",
       "      <th>Attr41</th>\n",
       "      <td>187</td>\n",
       "      <td>0.019097</td>\n",
       "    </tr>\n",
       "    <tr>\n",
       "      <th>Attr21</th>\n",
       "      <td>158</td>\n",
       "      <td>0.016136</td>\n",
       "    </tr>\n",
       "    <tr>\n",
       "      <th>Attr32</th>\n",
       "      <td>96</td>\n",
       "      <td>0.009804</td>\n",
       "    </tr>\n",
       "    <tr>\n",
       "      <th>Attr52</th>\n",
       "      <td>76</td>\n",
       "      <td>0.007761</td>\n",
       "    </tr>\n",
       "    <tr>\n",
       "      <th>Attr47</th>\n",
       "      <td>73</td>\n",
       "      <td>0.007455</td>\n",
       "    </tr>\n",
       "    <tr>\n",
       "      <th>Attr33</th>\n",
       "      <td>43</td>\n",
       "      <td>0.004391</td>\n",
       "    </tr>\n",
       "    <tr>\n",
       "      <th>Attr12</th>\n",
       "      <td>43</td>\n",
       "      <td>0.004391</td>\n",
       "    </tr>\n",
       "    <tr>\n",
       "      <th>Attr46</th>\n",
       "      <td>43</td>\n",
       "      <td>0.004391</td>\n",
       "    </tr>\n",
       "    <tr>\n",
       "      <th>Attr40</th>\n",
       "      <td>43</td>\n",
       "      <td>0.004391</td>\n",
       "    </tr>\n",
       "    <tr>\n",
       "      <th>Attr4</th>\n",
       "      <td>43</td>\n",
       "      <td>0.004391</td>\n",
       "    </tr>\n",
       "    <tr>\n",
       "      <th>Attr63</th>\n",
       "      <td>43</td>\n",
       "      <td>0.004391</td>\n",
       "    </tr>\n",
       "    <tr>\n",
       "      <th>Attr61</th>\n",
       "      <td>32</td>\n",
       "      <td>0.003268</td>\n",
       "    </tr>\n",
       "    <tr>\n",
       "      <th>Attr30</th>\n",
       "      <td>21</td>\n",
       "      <td>0.002145</td>\n",
       "    </tr>\n",
       "    <tr>\n",
       "      <th>Attr49</th>\n",
       "      <td>21</td>\n",
       "      <td>0.002145</td>\n",
       "    </tr>\n",
       "    <tr>\n",
       "      <th>Attr62</th>\n",
       "      <td>21</td>\n",
       "      <td>0.002145</td>\n",
       "    </tr>\n",
       "    <tr>\n",
       "      <th>Attr56</th>\n",
       "      <td>21</td>\n",
       "      <td>0.002145</td>\n",
       "    </tr>\n",
       "    <tr>\n",
       "      <th>Attr23</th>\n",
       "      <td>21</td>\n",
       "      <td>0.002145</td>\n",
       "    </tr>\n",
       "    <tr>\n",
       "      <th>Attr13</th>\n",
       "      <td>21</td>\n",
       "      <td>0.002145</td>\n",
       "    </tr>\n",
       "    <tr>\n",
       "      <th>Attr31</th>\n",
       "      <td>21</td>\n",
       "      <td>0.002145</td>\n",
       "    </tr>\n",
       "    <tr>\n",
       "      <th>Attr39</th>\n",
       "      <td>21</td>\n",
       "      <td>0.002145</td>\n",
       "    </tr>\n",
       "    <tr>\n",
       "      <th>Attr19</th>\n",
       "      <td>21</td>\n",
       "      <td>0.002145</td>\n",
       "    </tr>\n",
       "    <tr>\n",
       "      <th>...</th>\n",
       "      <td>...</td>\n",
       "      <td>...</td>\n",
       "    </tr>\n",
       "    <tr>\n",
       "      <th>Attr26</th>\n",
       "      <td>19</td>\n",
       "      <td>0.001940</td>\n",
       "    </tr>\n",
       "    <tr>\n",
       "      <th>Attr17</th>\n",
       "      <td>19</td>\n",
       "      <td>0.001940</td>\n",
       "    </tr>\n",
       "    <tr>\n",
       "      <th>Attr16</th>\n",
       "      <td>19</td>\n",
       "      <td>0.001940</td>\n",
       "    </tr>\n",
       "    <tr>\n",
       "      <th>Attr34</th>\n",
       "      <td>19</td>\n",
       "      <td>0.001940</td>\n",
       "    </tr>\n",
       "    <tr>\n",
       "      <th>Attr8</th>\n",
       "      <td>19</td>\n",
       "      <td>0.001940</td>\n",
       "    </tr>\n",
       "    <tr>\n",
       "      <th>Attr50</th>\n",
       "      <td>19</td>\n",
       "      <td>0.001940</td>\n",
       "    </tr>\n",
       "    <tr>\n",
       "      <th>Attr58</th>\n",
       "      <td>16</td>\n",
       "      <td>0.001634</td>\n",
       "    </tr>\n",
       "    <tr>\n",
       "      <th>Attr15</th>\n",
       "      <td>8</td>\n",
       "      <td>0.000817</td>\n",
       "    </tr>\n",
       "    <tr>\n",
       "      <th>Attr2</th>\n",
       "      <td>1</td>\n",
       "      <td>0.000102</td>\n",
       "    </tr>\n",
       "    <tr>\n",
       "      <th>Attr11</th>\n",
       "      <td>1</td>\n",
       "      <td>0.000102</td>\n",
       "    </tr>\n",
       "    <tr>\n",
       "      <th>Attr3</th>\n",
       "      <td>1</td>\n",
       "      <td>0.000102</td>\n",
       "    </tr>\n",
       "    <tr>\n",
       "      <th>Attr10</th>\n",
       "      <td>1</td>\n",
       "      <td>0.000102</td>\n",
       "    </tr>\n",
       "    <tr>\n",
       "      <th>Attr7</th>\n",
       "      <td>1</td>\n",
       "      <td>0.000102</td>\n",
       "    </tr>\n",
       "    <tr>\n",
       "      <th>Attr14</th>\n",
       "      <td>1</td>\n",
       "      <td>0.000102</td>\n",
       "    </tr>\n",
       "    <tr>\n",
       "      <th>Attr6</th>\n",
       "      <td>1</td>\n",
       "      <td>0.000102</td>\n",
       "    </tr>\n",
       "    <tr>\n",
       "      <th>Attr1</th>\n",
       "      <td>1</td>\n",
       "      <td>0.000102</td>\n",
       "    </tr>\n",
       "    <tr>\n",
       "      <th>Attr18</th>\n",
       "      <td>1</td>\n",
       "      <td>0.000102</td>\n",
       "    </tr>\n",
       "    <tr>\n",
       "      <th>Attr22</th>\n",
       "      <td>1</td>\n",
       "      <td>0.000102</td>\n",
       "    </tr>\n",
       "    <tr>\n",
       "      <th>Attr25</th>\n",
       "      <td>1</td>\n",
       "      <td>0.000102</td>\n",
       "    </tr>\n",
       "    <tr>\n",
       "      <th>Attr29</th>\n",
       "      <td>1</td>\n",
       "      <td>0.000102</td>\n",
       "    </tr>\n",
       "    <tr>\n",
       "      <th>Attr35</th>\n",
       "      <td>1</td>\n",
       "      <td>0.000102</td>\n",
       "    </tr>\n",
       "    <tr>\n",
       "      <th>Attr36</th>\n",
       "      <td>1</td>\n",
       "      <td>0.000102</td>\n",
       "    </tr>\n",
       "    <tr>\n",
       "      <th>Attr38</th>\n",
       "      <td>1</td>\n",
       "      <td>0.000102</td>\n",
       "    </tr>\n",
       "    <tr>\n",
       "      <th>Attr48</th>\n",
       "      <td>1</td>\n",
       "      <td>0.000102</td>\n",
       "    </tr>\n",
       "    <tr>\n",
       "      <th>Attr51</th>\n",
       "      <td>1</td>\n",
       "      <td>0.000102</td>\n",
       "    </tr>\n",
       "    <tr>\n",
       "      <th>Attr57</th>\n",
       "      <td>1</td>\n",
       "      <td>0.000102</td>\n",
       "    </tr>\n",
       "    <tr>\n",
       "      <th>Attr59</th>\n",
       "      <td>1</td>\n",
       "      <td>0.000102</td>\n",
       "    </tr>\n",
       "    <tr>\n",
       "      <th>Attr9</th>\n",
       "      <td>0</td>\n",
       "      <td>0.000000</td>\n",
       "    </tr>\n",
       "    <tr>\n",
       "      <th>Attr55</th>\n",
       "      <td>0</td>\n",
       "      <td>0.000000</td>\n",
       "    </tr>\n",
       "    <tr>\n",
       "      <th>class</th>\n",
       "      <td>0</td>\n",
       "      <td>0.000000</td>\n",
       "    </tr>\n",
       "  </tbody>\n",
       "</table>\n",
       "<p>65 rows × 2 columns</p>\n",
       "</div>"
      ],
      "text/plain": [
       "        Total   Percent\n",
       "Attr37   4442  0.453636\n",
       "Attr27    641  0.065462\n",
       "Attr60    614  0.062704\n",
       "Attr45    613  0.062602\n",
       "Attr28    231  0.023591\n",
       "Attr64    231  0.023591\n",
       "Attr54    231  0.023591\n",
       "Attr53    231  0.023591\n",
       "Attr24    211  0.021548\n",
       "Attr41    187  0.019097\n",
       "Attr21    158  0.016136\n",
       "Attr32     96  0.009804\n",
       "Attr52     76  0.007761\n",
       "Attr47     73  0.007455\n",
       "Attr33     43  0.004391\n",
       "Attr12     43  0.004391\n",
       "Attr46     43  0.004391\n",
       "Attr40     43  0.004391\n",
       "Attr4      43  0.004391\n",
       "Attr63     43  0.004391\n",
       "Attr61     32  0.003268\n",
       "Attr30     21  0.002145\n",
       "Attr49     21  0.002145\n",
       "Attr62     21  0.002145\n",
       "Attr56     21  0.002145\n",
       "Attr23     21  0.002145\n",
       "Attr13     21  0.002145\n",
       "Attr31     21  0.002145\n",
       "Attr39     21  0.002145\n",
       "Attr19     21  0.002145\n",
       "...       ...       ...\n",
       "Attr26     19  0.001940\n",
       "Attr17     19  0.001940\n",
       "Attr16     19  0.001940\n",
       "Attr34     19  0.001940\n",
       "Attr8      19  0.001940\n",
       "Attr50     19  0.001940\n",
       "Attr58     16  0.001634\n",
       "Attr15      8  0.000817\n",
       "Attr2       1  0.000102\n",
       "Attr11      1  0.000102\n",
       "Attr3       1  0.000102\n",
       "Attr10      1  0.000102\n",
       "Attr7       1  0.000102\n",
       "Attr14      1  0.000102\n",
       "Attr6       1  0.000102\n",
       "Attr1       1  0.000102\n",
       "Attr18      1  0.000102\n",
       "Attr22      1  0.000102\n",
       "Attr25      1  0.000102\n",
       "Attr29      1  0.000102\n",
       "Attr35      1  0.000102\n",
       "Attr36      1  0.000102\n",
       "Attr38      1  0.000102\n",
       "Attr48      1  0.000102\n",
       "Attr51      1  0.000102\n",
       "Attr57      1  0.000102\n",
       "Attr59      1  0.000102\n",
       "Attr9       0  0.000000\n",
       "Attr55      0  0.000000\n",
       "class       0  0.000000\n",
       "\n",
       "[65 rows x 2 columns]"
      ]
     },
     "execution_count": 7,
     "metadata": {},
     "output_type": "execute_result"
    }
   ],
   "source": [
    "#missing data observing in columns\n",
    "total = data.isnull().sum(axis=0).sort_values(ascending=False)\n",
    "percent = ((data.isnull().sum(axis=0)/data.isnull().count(axis=0))).sort_values(ascending=False)\n",
    "\n",
    "# count the number of null values in the column and their perecentage of the total data\n",
    "missing_data_columns = pd.concat([total, percent], axis=1, keys=['Total', 'Percent'])\n",
    "missing_data_columns"
   ]
  },
  {
   "cell_type": "code",
   "execution_count": 8,
   "metadata": {},
   "outputs": [
    {
     "name": "stderr",
     "output_type": "stream",
     "text": [
      "C:\\Users\\Lenovo\\Anaconda2\\lib\\site-packages\\ipykernel_launcher.py:8: SettingWithCopyWarning: \n",
      "A value is trying to be set on a copy of a slice from a DataFrame.\n",
      "Try using .loc[row_indexer,col_indexer] = value instead\n",
      "\n",
      "See the caveats in the documentation: http://pandas.pydata.org/pandas-docs/stable/indexing.html#indexing-view-versus-copy\n",
      "  \n",
      "C:\\Users\\Lenovo\\Anaconda2\\lib\\site-packages\\pandas\\core\\frame.py:2356: SettingWithCopyWarning: \n",
      "A value is trying to be set on a copy of a slice from a DataFrame\n",
      "\n",
      "See the caveats in the documentation: http://pandas.pydata.org/pandas-docs/stable/indexing.html#indexing-view-versus-copy\n",
      "  self.loc._setitem_with_indexer((slice(None), indexer), value)\n",
      "C:\\Users\\Lenovo\\Anaconda2\\lib\\site-packages\\pandas\\core\\frame.py:2326: SettingWithCopyWarning: \n",
      "A value is trying to be set on a copy of a slice from a DataFrame\n",
      "\n",
      "See the caveats in the documentation: http://pandas.pydata.org/pandas-docs/stable/indexing.html#indexing-view-versus-copy\n",
      "  self._setitem_array(key, value)\n"
     ]
    }
   ],
   "source": [
    "from sklearn.preprocessing import Imputer\n",
    "col_name = X_train.columns.values\n",
    "\n",
    "imp_median = Imputer(missing_values = 'NaN', strategy='median')\n",
    "X_train_1 = imp_median.fit_transform(X_train[col_name])\n",
    "\n",
    "X_train = pd.DataFrame(X_train_1)\n",
    "X_test[col_name] = imp_median.transform(X_test[col_name])"
   ]
  },
  {
   "cell_type": "markdown",
   "metadata": {},
   "source": [
    "# Applying different models "
   ]
  },
  {
   "cell_type": "code",
   "execution_count": null,
   "metadata": {
    "collapsed": true
   },
   "outputs": [],
   "source": []
  },
  {
   "cell_type": "markdown",
   "metadata": {},
   "source": [
    "# Logistic Regression"
   ]
  },
  {
   "cell_type": "code",
   "execution_count": 9,
   "metadata": {},
   "outputs": [
    {
     "name": "stdout",
     "output_type": "stream",
     "text": [
      "('auc_on_test :', 0.45031518261585735)\n",
      "('auc_on_train :', 0.4831092590537974)\n",
      "f1_score 0.017543859649122806\n",
      "0.08333333333333333\n",
      "0.00980392156862745\n",
      "[[1846   11]\n",
      " [ 101    1]]\n"
     ]
    },
    {
     "name": "stderr",
     "output_type": "stream",
     "text": [
      "C:\\Users\\Lenovo\\Anaconda2\\lib\\site-packages\\sklearn\\linear_model\\base.py:340: RuntimeWarning: overflow encountered in exp\n",
      "  np.exp(prob, prob)\n"
     ]
    }
   ],
   "source": [
    "lr = LogisticRegression()\n",
    "lr.fit(X_train, y_train)\n",
    "y_pred  = lr.predict_proba(X_test)[:,1]\n",
    "\n",
    "roc_train = roc_auc_score(y_train, lr.predict_proba(X_train)[:,1])\n",
    "print('auc_on_test :',roc_auc_score(y_test,y_pred))\n",
    "print('auc_on_train :',roc_train)\n",
    "print \"f1_score\", f1_score(y_test, lr.predict(X_test))\n",
    "print precision_score(y_test, lr.predict(X_test))\n",
    "print recall_score(y_test, lr.predict(X_test))\n",
    "#print roc_auc_score(y_test, lr.predict_proba(X_test)[:,1])\n",
    "print confusion_matrix(y_test, lr.predict(X_test))\n"
   ]
  },
  {
   "cell_type": "code",
   "execution_count": 10,
   "metadata": {},
   "outputs": [
    {
     "name": "stdout",
     "output_type": "stream",
     "text": [
      "('auc_on_test :', 0.7870484758254406)\n",
      "('auc_on_train :', 0.7803740300085495)\n",
      "f1_score 0.036036036036036036\n",
      "0.2222222222222222\n",
      "0.0196078431372549\n",
      "[[1850    7]\n",
      " [ 100    2]]\n"
     ]
    }
   ],
   "source": [
    "#LogisticRegression with L1 regularization\n",
    "lr1 = LogisticRegression(penalty='l1')\n",
    "lr1.fit(X_train,y_train)\n",
    "y_pred_lr  = lr1.predict_proba(X_test)[:,1]\n",
    "roc_train = roc_auc_score(y_train, lr1.predict_proba(X_train)[:,1])\n",
    "print('auc_on_test :',roc_auc_score(y_test,y_pred_lr))\n",
    "print('auc_on_train :',roc_train)\n",
    "print \"f1_score\", f1_score(y_test, lr1.predict(X_test))\n",
    "print precision_score(y_test, lr1.predict(X_test))\n",
    "print recall_score(y_test, lr1.predict(X_test))\n",
    "#print roc_auc_score(y_test, lr.predict_proba(X_test)[:,1])\n",
    "print confusion_matrix(y_test, lr1.predict(X_test))\n",
    "\n"
   ]
  },
  {
   "cell_type": "code",
   "execution_count": 11,
   "metadata": {},
   "outputs": [
    {
     "name": "stdout",
     "output_type": "stream",
     "text": [
      "('auc_on_test :', 0.45031518261585735)\n",
      "('auc_on_train :', 0.4831092590537974)\n"
     ]
    }
   ],
   "source": [
    "#LogisticRegression with L2 regularization\n",
    "lr2 = LogisticRegression(penalty='l2')\n",
    "lr2.fit(X_train,y_train)\n",
    "y_pred_lr2  = lr2.predict_proba(X_test)[:,1]\n",
    "roc_train = roc_auc_score(y_train, lr2.predict_proba(X_train)[:,1])\n",
    "print('auc_on_test :',roc_auc_score(y_test,y_pred_lr2))\n",
    "print('auc_on_train :',roc_train)"
   ]
  },
  {
   "cell_type": "markdown",
   "metadata": {},
   "source": [
    "# DecisionTreeClassifier"
   ]
  },
  {
   "cell_type": "code",
   "execution_count": 12,
   "metadata": {},
   "outputs": [
    {
     "name": "stdout",
     "output_type": "stream",
     "text": [
      "('auc_on_test :', 0.7033561405175964)\n",
      "('auc_on_train :', 1.0)\n"
     ]
    }
   ],
   "source": [
    "dt1 = DecisionTreeClassifier(criterion='gini',random_state=9)\n",
    "dt1.fit(X_train,y_train)\n",
    "\n",
    "y_pred_dt1  = dt1.predict_proba(X_test)[:,1]\n",
    "roc_train = roc_auc_score(y_train, dt1.predict_proba(X_train)[:,1])\n",
    "print('auc_on_test :',roc_auc_score(y_test,y_pred_dt1))\n",
    "print('auc_on_train :',roc_train)"
   ]
  },
  {
   "cell_type": "code",
   "execution_count": 13,
   "metadata": {},
   "outputs": [
    {
     "name": "stdout",
     "output_type": "stream",
     "text": [
      "('auc_on_test :', 0.7632909922181041)\n",
      "('auc_on_train :', 0.7963130535232961)\n"
     ]
    }
   ],
   "source": [
    "dt2 = DecisionTreeClassifier(random_state=9,max_depth=4)\n",
    "dt2.fit(X_train,y_train)\n",
    "\n",
    "y_pred_dt2  = dt2.predict_proba(X_test)[:,1]\n",
    "roc_train = roc_auc_score(y_train, dt2.predict_proba(X_train)[:,1])\n",
    "print('auc_on_test :',roc_auc_score(y_test,y_pred_dt2))\n",
    "print('auc_on_train :',roc_train)"
   ]
  },
  {
   "cell_type": "code",
   "execution_count": 14,
   "metadata": {},
   "outputs": [
    {
     "name": "stdout",
     "output_type": "stream",
     "text": [
      "('auc_on_test :', 0.783286874254279)\n",
      "('auc_on_train :', 0.9018228333866326)\n"
     ]
    }
   ],
   "source": [
    "dt3 = DecisionTreeClassifier(random_state=9,max_depth=8)\n",
    "dt3.fit(X_train,y_train)\n",
    "\n",
    "y_pred_dt3  = dt3.predict_proba(X_test)[:,1]\n",
    "roc_train = roc_auc_score(y_train, dt3.predict_proba(X_train)[:,1])\n",
    "print('auc_on_test :',roc_auc_score(y_test,y_pred_dt3))\n",
    "print('auc_on_train :',roc_train)"
   ]
  },
  {
   "cell_type": "code",
   "execution_count": 15,
   "metadata": {},
   "outputs": [
    {
     "name": "stdout",
     "output_type": "stream",
     "text": [
      "('auc_on_test :', 0.7056210206214959)\n",
      "('auc_on_train :', 0.9999399567949981)\n"
     ]
    }
   ],
   "source": [
    "dt4 = DecisionTreeClassifier(random_state=9,max_depth=25)\n",
    "dt4.fit(X_train,y_train)\n",
    "\n",
    "y_pred_dt4  = dt4.predict_proba(X_test)[:,1]\n",
    "roc_train = roc_auc_score(y_train, dt4.predict_proba(X_train)[:,1])\n",
    "print('auc_on_test :',roc_auc_score(y_test,y_pred_dt4))\n",
    "print('auc_on_train :',roc_train)"
   ]
  },
  {
   "cell_type": "code",
   "execution_count": 16,
   "metadata": {},
   "outputs": [
    {
     "name": "stdout",
     "output_type": "stream",
     "text": [
      "('auc_on_test :', 0.7275966929582819)\n",
      "('auc_on_train :', 1.0)\n"
     ]
    }
   ],
   "source": [
    "dt4 = DecisionTreeClassifier(criterion='entropy',random_state=9,max_depth=25)\n",
    "dt4.fit(X_train,y_train)\n",
    "\n",
    "y_pred_dt4  = dt4.predict_proba(X_test)[:,1]\n",
    "roc_train = roc_auc_score(y_train, dt4.predict_proba(X_train)[:,1])\n",
    "print('auc_on_test :',roc_auc_score(y_test,y_pred_dt4))\n",
    "print('auc_on_train :',roc_train)"
   ]
  },
  {
   "cell_type": "code",
   "execution_count": 17,
   "metadata": {},
   "outputs": [
    {
     "name": "stdout",
     "output_type": "stream",
     "text": [
      "('auc_on_test :', 0.7832657564910726)\n",
      "('auc_on_train :', 0.8356361316512535)\n"
     ]
    }
   ],
   "source": [
    "dt5 = DecisionTreeClassifier(random_state=9,max_depth=5)\n",
    "dt5.fit(X_train,y_train)\n",
    "\n",
    "y_pred_dt5  = dt5.predict_proba(X_test)[:,1]\n",
    "roc_train = roc_auc_score(y_train, dt5.predict_proba(X_train)[:,1])\n",
    "print('auc_on_test :',roc_auc_score(y_test,y_pred_dt5))\n",
    "print('auc_on_train :',roc_train)"
   ]
  },
  {
   "cell_type": "code",
   "execution_count": 18,
   "metadata": {},
   "outputs": [
    {
     "name": "stdout",
     "output_type": "stream",
     "text": [
      "('auc_on_test :', 0.8128411838618055)\n",
      "('auc_on_train :', 0.886942234520927)\n"
     ]
    }
   ],
   "source": [
    "dt5 = DecisionTreeClassifier(criterion='entropy',random_state=9,max_depth=5)\n",
    "dt5.fit(X_train,y_train)\n",
    "\n",
    "y_pred_dt5  = dt5.predict_proba(X_test)[:,1]\n",
    "roc_train = roc_auc_score(y_train, dt5.predict_proba(X_train)[:,1])\n",
    "print('auc_on_test :',roc_auc_score(y_test,y_pred_dt5))\n",
    "print('auc_on_train :',roc_train)"
   ]
  },
  {
   "cell_type": "code",
   "execution_count": 19,
   "metadata": {
    "collapsed": true
   },
   "outputs": [],
   "source": [
    "from sklearn.model_selection import RandomizedSearchCV,GridSearchCV"
   ]
  },
  {
   "cell_type": "code",
   "execution_count": 20,
   "metadata": {},
   "outputs": [],
   "source": [
    "# %%time\n",
    "\n",
    "# param_grid = {\"max_depth\": [2, 3, 5, 6, 8, 10, 15, 20, 30, 50,100,150,200],\n",
    "#               \"max_leaf_nodes\": [2, 3, 4, 5, 10, 15, 20,25,30],\n",
    "#               \"max_features\": [4,8,20,25,50,35,45,50,60]}\n",
    "\n",
    "# # Write your solution here :\n",
    "# def my_decision_classification(X_train,X_test,y_train,y_test,param_grid):\n",
    "\n",
    "#     grid_objt = GridSearchCV(estimator = DecisionTreeClassifier(random_state=9),param_grid=param_grid,cv = 5)\n",
    "#     grid_objt.fit(X_train,y_train)\n",
    "#     y_pred = grid_objt.predict(X_test)\n",
    "#     roc_s = roc_auc_score(y_test,y_pred)\n",
    "#     best_parameters = grid_objt.best_params_\n",
    "#     return roc_s,best_parameters\n",
    "\n",
    "\n",
    "# print(my_decision_classification(X_train,X_test,y_train,y_test,param_grid))"
   ]
  },
  {
   "cell_type": "code",
   "execution_count": 21,
   "metadata": {},
   "outputs": [],
   "source": [
    "# %%time\n",
    "\n",
    "# param_grid = {\"max_depth\": [2, 3, 5, 6, 8, 10, 15, 20, 30, 50,100,150,200],\n",
    "              \n",
    "#               \"max_features\": [4,8,20,25,50,35,45,50,60]}\n",
    "\n",
    "# # Write your solution here :\n",
    "# def my_decision_classification(X_train,X_test,y_train,y_test,param_grid):\n",
    "\n",
    "#     grid_objt = GridSearchCV(estimator = DecisionTreeClassifier(random_state=9),param_grid=param_grid,cv = 5)\n",
    "#     grid_objt.fit(X_train,y_train)\n",
    "#     y_pred = grid_objt.predict(X_test)\n",
    "#     roc_s = roc_auc_score(y_test,y_pred)\n",
    "#     best_parameters = grid_objt.best_params_\n",
    "#     return roc_s,best_parameters\n",
    "\n",
    "\n",
    "# print(my_decision_classification(X_train,X_test,y_train,y_test,param_grid))"
   ]
  },
  {
   "cell_type": "code",
   "execution_count": 22,
   "metadata": {},
   "outputs": [
    {
     "name": "stdout",
     "output_type": "stream",
     "text": [
      "('auc_on_test :', 0.7859688301815072)\n",
      "('auc_on_train :', 0.8522447674304771)\n"
     ]
    }
   ],
   "source": [
    "dt6 = DecisionTreeClassifier(random_state=9,max_depth=6,max_features=60)\n",
    "dt6.fit(X_train,y_train)\n",
    "\n",
    "y_pred_dt6  = dt6.predict_proba(X_test)[:,1]\n",
    "roc_train = roc_auc_score(y_train, dt6.predict_proba(X_train)[:,1])\n",
    "print('auc_on_test :',roc_auc_score(y_test,y_pred_dt6))\n",
    "print('auc_on_train :',roc_train)"
   ]
  },
  {
   "cell_type": "code",
   "execution_count": 23,
   "metadata": {},
   "outputs": [
    {
     "name": "stdout",
     "output_type": "stream",
     "text": [
      "('auc_on_test :', 0.8169485888054737)\n",
      "('auc_on_train :', 0.9226540728219652)\n"
     ]
    }
   ],
   "source": [
    "dt6 = DecisionTreeClassifier(criterion='entropy',random_state=9,max_depth=6,max_features=60)\n",
    "dt6.fit(X_train,y_train)\n",
    "\n",
    "y_pred_dt6  = dt6.predict_proba(X_test)[:,1]\n",
    "roc_train = roc_auc_score(y_train, dt6.predict_proba(X_train)[:,1])\n",
    "print('auc_on_test :',roc_auc_score(y_test,y_pred_dt6))\n",
    "print('auc_on_train :',roc_train)"
   ]
  },
  {
   "cell_type": "code",
   "execution_count": 24,
   "metadata": {},
   "outputs": [
    {
     "name": "stdout",
     "output_type": "stream",
     "text": [
      "('auc_on_test :', 0.8221382791134764)\n",
      "('auc_on_train :', 0.9208676243122769)\n"
     ]
    }
   ],
   "source": [
    "dt7 = DecisionTreeClassifier(criterion='entropy',random_state=9,max_depth=6,max_features=60,max_leaf_nodes=50)\n",
    "dt7.fit(X_train,y_train)\n",
    "\n",
    "y_pred_dt7  = dt7.predict_proba(X_test)[:,1]\n",
    "roc_train = roc_auc_score(y_train, dt7.predict_proba(X_train)[:,1])\n",
    "print('auc_on_test :',roc_auc_score(y_test,y_pred_dt7))\n",
    "print('auc_on_train :',roc_train)"
   ]
  },
  {
   "cell_type": "code",
   "execution_count": 25,
   "metadata": {},
   "outputs": [
    {
     "name": "stdout",
     "output_type": "stream",
     "text": [
      "('auc_on_test :', 0.8309549452521988)\n",
      "('auc_on_train :', 0.9233383695659267)\n"
     ]
    }
   ],
   "source": [
    "dt8 = DecisionTreeClassifier(criterion='entropy',random_state=9,max_depth=6,max_features=30,max_leaf_nodes=50,min_samples_split=15)\n",
    "dt8.fit(X_train,y_train)\n",
    "\n",
    "y_pred_dt8  = dt8.predict_proba(X_test)[:,1]\n",
    "roc_train = roc_auc_score(y_train, dt8.predict_proba(X_train)[:,1])\n",
    "print('auc_on_test :',roc_auc_score(y_test,y_pred_dt8))\n",
    "print('auc_on_train :',roc_train)"
   ]
  },
  {
   "cell_type": "code",
   "execution_count": 26,
   "metadata": {
    "collapsed": true
   },
   "outputs": [],
   "source": [
    "# %%time\n",
    "\n",
    "\n",
    "\n",
    "# param_grid = {\"max_depth\": [2, 3, 5, 6, 8, 10, 15, 20, 30, 50,100,150,200],\n",
    "#               \"max_leaf_nodes\": [2, 3, 4, 5, 10, 15, 20,25,30,40,50,60],\n",
    "#               \"max_features\": [4,8,20,25,50,35,45,50,60],\n",
    "#              \"min_samples_split\":[15,20,5,8,12,13,17,22,48,40,45,50]}\n",
    "\n",
    "# # Write your solution here :\n",
    "# def my_decision_classification(X_train,X_test,y_train,y_test,param_grid):\n",
    "\n",
    "#     grid_objt = GridSearchCV(estimator = DecisionTreeClassifier(random_state=9,criterion='entropy'),param_grid=param_grid,cv = 5)\n",
    "#     grid_objt.fit(X_train,y_train)\n",
    "#     y_pred = grid_objt.predict(X_test)\n",
    "#     roc_s = roc_auc_score(y_test,y_pred)\n",
    "#     best_parameters = grid_objt.best_params_\n",
    "#     return roc_s,best_parameters\n",
    "\n",
    "\n",
    "# print(my_decision_classification(X_train,X_test,y_train,y_test,param_grid))"
   ]
  },
  {
   "cell_type": "code",
   "execution_count": 27,
   "metadata": {},
   "outputs": [
    {
     "data": {
      "text/plain": [
       "AdaBoostClassifier(algorithm='SAMME.R',\n",
       "          base_estimator=DecisionTreeClassifier(class_weight=None, criterion='gini', max_depth=1,\n",
       "            max_features=None, max_leaf_nodes=None,\n",
       "            min_impurity_decrease=0.0, min_impurity_split=None,\n",
       "            min_samples_leaf=1, min_samples_split=2,\n",
       "            min_weight_fraction_leaf=0.0, presort=False, random_state=None,\n",
       "            splitter='best'),\n",
       "          learning_rate=0.5, n_estimators=200, random_state=42)"
      ]
     },
     "execution_count": 27,
     "metadata": {},
     "output_type": "execute_result"
    }
   ],
   "source": [
    "\n",
    "from sklearn.ensemble import AdaBoostClassifier\n",
    "from sklearn.tree import DecisionTreeClassifier\n",
    "\n",
    "\n",
    "ada_clf = AdaBoostClassifier(DecisionTreeClassifier(max_depth=1), \n",
    "                             n_estimators=200,\n",
    "                             algorithm=\"SAMME.R\", \n",
    "                             learning_rate=0.5, \n",
    "                             random_state=42)\n",
    "ada_clf.fit(X_train, y_train)"
   ]
  },
  {
   "cell_type": "code",
   "execution_count": null,
   "metadata": {
    "collapsed": true
   },
   "outputs": [],
   "source": []
  },
  {
   "cell_type": "code",
   "execution_count": 28,
   "metadata": {
    "collapsed": true
   },
   "outputs": [],
   "source": [
    "\n",
    "y_pred = ada_clf.predict_proba(X_test)[:,1]"
   ]
  },
  {
   "cell_type": "code",
   "execution_count": 29,
   "metadata": {},
   "outputs": [
    {
     "data": {
      "image/png": "[encoded data removed]",
      "text/plain": [
       "<matplotlib.figure.Figure at 0x15eb1518>"
      ]
     },
     "metadata": {},
     "output_type": "display_data"
    }
   ],
   "source": [
    "roc = roc_auc_score(y_test,y_pred)\n",
    "roc\n",
    "\n",
    "fpr, tpr, threshold = metrics.roc_curve(y_test, y_pred)\n",
    "roc_auc = metrics.auc(fpr, tpr)\n",
    "import matplotlib.pyplot as plt\n",
    "plt.title('Receiver Operating Characteristic')\n",
    "plt.plot(fpr, tpr, 'b', label = 'AUC = %0.2f' % roc_auc)\n",
    "plt.legend(loc = 'lower right')\n",
    "plt.plot([0, 1], [0, 1],'r--')\n",
    "plt.xlim([0, 1])\n",
    "plt.ylim([0, 1])\n",
    "plt.ylabel('True Positive Rate')\n",
    "plt.xlabel('False Positive Rate')\n",
    "\n",
    "plt.savefig('H:/Greyatom_sessions/hackathon1/ada_roc.png')\n",
    "plt.show()"
   ]
  },
  {
   "cell_type": "code",
   "execution_count": 30,
   "metadata": {
    "collapsed": true
   },
   "outputs": [],
   "source": [
    "y_pred_train = ada_clf.predict_proba(X_train)[:,1]"
   ]
  },
  {
   "cell_type": "code",
   "execution_count": 31,
   "metadata": {},
   "outputs": [
    {
     "data": {
      "text/plain": [
       "0    1857\n",
       "1     102\n",
       "Name: class, dtype: int64"
      ]
     },
     "execution_count": 31,
     "metadata": {},
     "output_type": "execute_result"
    }
   ],
   "source": [
    "y_test.value_counts()"
   ]
  },
  {
   "cell_type": "code",
   "execution_count": 63,
   "metadata": {
    "scrolled": true
   },
   "outputs": [
    {
     "name": "stdout",
     "output_type": "stream",
     "text": [
      " f1_score 0.3384615384615385\n",
      "0.7857142857142857\n",
      "0.21568627450980393\n",
      "0.9004323862016534\n",
      "[[1851    6]\n",
      " [  80   22]]\n"
     ]
    }
   ],
   "source": [
    "roc_train = roc_auc_score(y_train,y_pred_train)\n",
    "roc_train\n",
    "print \"f1_score\", f1_score(y_test, ada_clf.predict(X_test))\n",
    "print precision_score(y_test, ada_clf.predict(X_test))\n",
    "print recall_score(y_test, ada_clf.predict(X_test))\n",
    "print roc_auc_score(y_test, ada_clf.predict_proba(X_test)[:,1])\n",
    "print confusion_matrix(y_test, ada_clf.predict(X_test))"
   ]
  },
  {
   "cell_type": "code",
   "execution_count": 35,
   "metadata": {},
   "outputs": [],
   "source": [
    "#y_test.value_counts()\n",
    "#yc.value_counts()"
   ]
  },
  {
   "cell_type": "code",
   "execution_count": null,
   "metadata": {},
   "outputs": [],
   "source": []
  },
  {
   "cell_type": "code",
   "execution_count": 34,
   "metadata": {},
   "outputs": [
    {
     "name": "stdout",
     "output_type": "stream",
     "text": [
      "('th=', 0.1)\n",
      "[[   0 1857]\n",
      " [   0  102]]\n",
      "('Precision_score :', 0.05206738131699847)\n",
      "('Recall_Score :', 1.0)\n",
      "-------------\n",
      "('th=', 0.2)\n",
      "[[   0 1857]\n",
      " [   0  102]]\n",
      "('Precision_score :', 0.05206738131699847)\n",
      "('Recall_Score :', 1.0)\n",
      "-------------\n",
      "('th=', 0.3)\n",
      "[[   0 1857]\n",
      " [   0  102]]\n",
      "('Precision_score :', 0.05206738131699847)\n",
      "('Recall_Score :', 1.0)\n",
      "-------------\n",
      "('th=', 0.4)\n",
      "[[   0 1857]\n",
      " [   0  102]]\n",
      "('Precision_score :', 0.05206738131699847)\n",
      "('Recall_Score :', 1.0)\n",
      "-------------\n",
      "('th=', 0.5)\n",
      "[[1851    6]\n",
      " [  80   22]]\n",
      "('Precision_score :', 0.7857142857142857)\n",
      "('Recall_Score :', 0.21568627450980393)\n",
      "-------------\n",
      "('th=', 0.6)\n",
      "[[1857    0]\n",
      " [ 102    0]]\n",
      "('Precision_score :', 0.0)\n",
      "('Recall_Score :', 0.0)\n",
      "-------------\n",
      "('th=', 0.7)\n",
      "[[1857    0]\n",
      " [ 102    0]]\n",
      "('Precision_score :', 0.0)\n",
      "('Recall_Score :', 0.0)\n",
      "-------------\n",
      "('th=', 0.8)\n",
      "[[1857    0]\n",
      " [ 102    0]]\n",
      "('Precision_score :', 0.0)\n",
      "('Recall_Score :', 0.0)\n",
      "-------------\n",
      "('th=', 0.9)\n",
      "[[1857    0]\n",
      " [ 102    0]]\n",
      "('Precision_score :', 0.0)\n",
      "('Recall_Score :', 0.0)\n",
      "-------------\n",
      "('th=', 1)\n",
      "[[1857    0]\n",
      " [ 102    0]]\n",
      "('Precision_score :', 0.0)\n",
      "('Recall_Score :', 0.0)\n",
      "-------------\n"
     ]
    },
    {
     "name": "stderr",
     "output_type": "stream",
     "text": [
      "C:\\Users\\Lenovo\\Anaconda2\\lib\\site-packages\\sklearn\\metrics\\classification.py:1135: UndefinedMetricWarning: Precision is ill-defined and being set to 0.0 due to no predicted samples.\n",
      "  'precision', 'predicted', average, warn_for)\n"
     ]
    }
   ],
   "source": [
    "l = [0.1,0.2,0.3,0.4,0.5,0.6,0.7,0.8,0.9,1]\n",
    "#l = [0.4,0.5]\n",
    "#l = [(0.4+(i/100.0)) for i in range(1,10)]\n",
    "rl1 = []\n",
    "p = []\n",
    "#print l\n",
    "\n",
    "y_pred\n",
    "for th in l:\n",
    "    y_pred_class =  [0 if i<th else 1 for i in y_pred]\n",
    "    yc = pd.Series(y_pred_class)\n",
    "    print('th=',th)\n",
    "    #print(yc.head())\n",
    "    print confusion_matrix(y_test, y_pred_class)\n",
    "    print('Precision_score :',precision_score(y_test,  y_pred_class))\n",
    "    print('Recall_Score :',recall_score(y_test, y_pred_class))\n",
    "    print('-------------')\n",
    "    rl1.append(recall_score(y_test, y_pred_class))\n",
    "    p.append(precision_score(y_test,  y_pred_class))\n",
    "    \n",
    "   \n"
   ]
  },
  {
   "cell_type": "code",
   "execution_count": null,
   "metadata": {},
   "outputs": [],
   "source": [
    "fpr, tpr, threshold = metrics.roc_curve(y_test, y_pred_class)\n",
    "yc.value_counts()\n",
    "y_test.value_counts()"
   ]
  },
  {
   "cell_type": "code",
   "execution_count": null,
   "metadata": {},
   "outputs": [],
   "source": [
    "len([1 for i, j in zip(y_test, y_pred_class) if i==1 and j == 1])"
   ]
  },
  {
   "cell_type": "code",
   "execution_count": null,
   "metadata": {},
   "outputs": [],
   "source": [
    "print(l)\n",
    "print(rl1)\n",
    "print(p)   "
   ]
  },
  {
   "cell_type": "code",
   "execution_count": 36,
   "metadata": {
    "scrolled": true
   },
   "outputs": [
    {
     "name": "stdout",
     "output_type": "stream",
     "text": [
      "('th=', 0.49)\n",
      "[[1328  529]\n",
      " [  12   90]]\n",
      "('Precision_score :', 0.14539579967689822)\n",
      "('Recall_Score :', 0.8823529411764706)\n",
      "-------------\n"
     ]
    }
   ],
   "source": [
    "#l2 = [(0.4+(i/100.0)) for i in range(1,10)]\n",
    "l2 = [0.49]\n",
    "r2 = []\n",
    "p2 = []\n",
    "#print l\n",
    "#y_pred\n",
    "for th in l2:\n",
    "    y_pred_class1 =  [0 if i<th else 1 for i in y_pred]\n",
    "    yc1 = pd.Series(y_pred_class1)\n",
    "    print('th=',th)\n",
    "    #print(yc.head())\n",
    "    print confusion_matrix(y_test, y_pred_class1)\n",
    "    print('Precision_score :',precision_score(y_test,  y_pred_class1))\n",
    "    print('Recall_Score :',recall_score(y_test, y_pred_class1))\n",
    "    print('-------------')\n",
    "    r2.append(recall_score(y_test, y_pred_class1))\n",
    "    p2.append(precision_score(y_test,  y_pred_class1))\n",
    "    \n",
    "   "
   ]
  },
  {
   "cell_type": "code",
   "execution_count": null,
   "metadata": {},
   "outputs": [],
   "source": [
    "print(y_test.value_counts())\n",
    "print(yc1.value_counts())\n",
    "len([1 for i, j in zip(y_test, y_pred_class1) if i==1 and j == 1])"
   ]
  },
  {
   "cell_type": "code",
   "execution_count": null,
   "metadata": {},
   "outputs": [],
   "source": [
    "print(l2)\n",
    "print(r2)\n",
    "print(p2) "
   ]
  },
  {
   "cell_type": "code",
   "execution_count": null,
   "metadata": {
    "collapsed": true
   },
   "outputs": [],
   "source": []
  },
  {
   "cell_type": "code",
   "execution_count": null,
   "metadata": {
    "collapsed": true
   },
   "outputs": [],
   "source": []
  },
  {
   "cell_type": "code",
   "execution_count": null,
   "metadata": {},
   "outputs": [],
   "source": [
    "def plot_roc_curve(fpr, tpr):\n",
    "\n",
    "    plt.clf()\n",
    "    plt.plot(fpr, tpr, linewidth=2)\n",
    "    plt.plot([0,1], [0,1], 'k--')\n",
    "    plt.axis([0,1,0,1])\n",
    "    plt.xlabel(\"False Positive Rate\")\n",
    "    plt.ylabel(\"False Negative Rate\")\n",
    "\n",
    "plot_roc_curve(fpr, tpr)\n",
    "plt.show()"
   ]
  },
  {
   "cell_type": "code",
   "execution_count": null,
   "metadata": {
    "collapsed": true
   },
   "outputs": [],
   "source": []
  },
  {
   "cell_type": "code",
   "execution_count": null,
   "metadata": {
    "collapsed": true
   },
   "outputs": [],
   "source": []
  },
  {
   "cell_type": "code",
   "execution_count": null,
   "metadata": {},
   "outputs": [],
   "source": [
    "print(len(l2), len(r2), len(p2))"
   ]
  },
  {
   "cell_type": "code",
   "execution_count": null,
   "metadata": {},
   "outputs": [],
   "source": [
    "#y_scores=rnd_clf.predict_proba(X_train_scaled)\n",
    "l = [0.1,0.2,0.3,0.4,0.5,0.8,0.9,1]\n",
    "from sklearn.metrics import precision_recall_curve\n",
    "a, b, c = precision_recall_curve(y_test, y_pred)\n",
    "\n",
    "def plot_prec_recall_vs_tresh(precisions, recalls, thresholds):\n",
    "    plt.plot(thresholds, precisions, 'b--', label='precision')\n",
    "    plt.plot(thresholds, recalls, 'g--', label = 'recall')\n",
    "    plt.xlabel('Threshold')\n",
    "    plt.legend(loc='upper left')\n",
    "    #plt.ylim([0.1,1.0])\n",
    "    #plt.xlim([0.3,0.8])\n",
    "    plt.savefig('H:/Greyatom_sessions/hackathon1/threshold.png')\n",
    "plot_prec_recall_vs_tresh(p2,r2,l2)\n",
    "plt.show()"
   ]
  },
  {
   "cell_type": "code",
   "execution_count": null,
   "metadata": {},
   "outputs": [],
   "source": [
    "c.shape\n",
    "a.shape"
   ]
  },
  {
   "cell_type": "code",
   "execution_count": null,
   "metadata": {},
   "outputs": [],
   "source": [
    "#pp, rl11, l11 = precision_recall_curve(y_test, y_pred)\n",
    "\n",
    "# def plot_prec_recall_vs_tresh1(precisions, recalls, thresholds):\n",
    "#     plt.plot(thresholds, precisions[:-1], 'b--', label='precision')\n",
    "#     plt.plot(thresholds, recalls[:-1], 'g--', label = 'recall')\n",
    "#     plt.xlabel('Threshold')\n",
    "#     plt.legend(loc='upper left')\n",
    "#     plt.ylim([0.1,1.0])\n",
    "#     #plt.xlim([0.1,1.0])\n",
    "\n",
    "# plot_prec_recall_vs_tresh1(pp, rl11, l11)\n",
    "# plt.show()"
   ]
  },
  {
   "cell_type": "code",
   "execution_count": 37,
   "metadata": {
    "collapsed": true
   },
   "outputs": [],
   "source": [
    "# ada_clf = AdaBoostClassifier(DecisionTreeClassifier(max_depth=1), \n",
    "#                              n_estimators=200,\n",
    "#                              algorithm=\"SAMME.R\", \n",
    "#                              learning_rate=0.5, \n",
    "#                              random_state=42)\n",
    "# ada_clf.fit(X_train, y_train)\n",
    "# y_pred = ada_clf.predict_proba(X_test)[:,1]"
   ]
  },
  {
   "cell_type": "code",
   "execution_count": 38,
   "metadata": {},
   "outputs": [
    {
     "data": {
      "text/plain": [
       "GradientBoostingRegressor(alpha=0.9, criterion='friedman_mse', init=None,\n",
       "             learning_rate=1.0, loss='ls', max_depth=2, max_features=None,\n",
       "             max_leaf_nodes=None, min_impurity_decrease=0.0,\n",
       "             min_impurity_split=None, min_samples_leaf=1,\n",
       "             min_samples_split=2, min_weight_fraction_leaf=0.0,\n",
       "             n_estimators=3, presort='auto', random_state=42,\n",
       "             subsample=1.0, verbose=0, warm_start=False)"
      ]
     },
     "execution_count": 38,
     "metadata": {},
     "output_type": "execute_result"
    }
   ],
   "source": [
    "from sklearn.ensemble import GradientBoostingRegressor\n",
    "\n",
    "gbrt = GradientBoostingRegressor(max_depth=2, n_estimators=3, learning_rate=1.0, random_state=42)\n",
    "gbrt.fit(X_train, y_train)"
   ]
  },
  {
   "cell_type": "code",
   "execution_count": 64,
   "metadata": {},
   "outputs": [
    {
     "data": {
      "text/plain": [
       "array([-0.0059077 ,  0.1142956 ,  0.02601021, ..., -0.0059077 ,\n",
       "        0.07746601,  0.02601021])"
      ]
     },
     "execution_count": 64,
     "metadata": {},
     "output_type": "execute_result"
    }
   ],
   "source": [
    "y_predd = gbrt.predict(X_test)\n",
    "y_predd"
   ]
  },
  {
   "cell_type": "code",
   "execution_count": 53,
   "metadata": {},
   "outputs": [],
   "source": [
    "# print \"f1_score\", f1_score(y_test, gbrt.predict(X_test))\n",
    "# print precision_score(y_test, gbrt.predict(X_test))\n",
    "#print recall_score(y_test, gbrt.predict(X_test))\n",
    "#print roc_auc_score(y_test, gbrt.predict(X_test))\n",
    "#print confusion_matrix(y_test, gbrt.predict(X_test))"
   ]
  },
  {
   "cell_type": "code",
   "execution_count": 65,
   "metadata": {
    "collapsed": true
   },
   "outputs": [],
   "source": [
    " from sklearn.model_selection import cross_val_score"
   ]
  },
  {
   "cell_type": "code",
   "execution_count": 70,
   "metadata": {},
   "outputs": [
    {
     "data": {
      "text/plain": [
       "0.10216971320900868"
      ]
     },
     "execution_count": 70,
     "metadata": {},
     "output_type": "execute_result"
    }
   ],
   "source": [
    "scores = cross_val_score(ada_clf,X_test,y_test)\n",
    "scores.mean()\n",
    "gbrt.score(X_test, y_test) "
   ]
  }
 ],
 "metadata": {
  "kernelspec": {
   "display_name": "Python 3",
   "language": "python",
   "name": "python3"
  },
  "language_info": {
   "codemirror_mode": {
    "name": "ipython",
    "version": 3
   },
   "file_extension": ".py",
   "mimetype": "text/x-python",
   "name": "python",
   "nbconvert_exporter": "python",
   "pygments_lexer": "ipython3",
   "version": "3.6.5"
  }
 },
 "nbformat": 4,
 "nbformat_minor": 2
}
